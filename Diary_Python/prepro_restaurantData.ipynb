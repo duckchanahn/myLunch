{
 "cells": [
  {
   "cell_type": "code",
   "execution_count": 7,
   "metadata": {},
   "outputs": [],
   "source": [
    "import pandas as pd\n",
    "import numpy as np\n",
    "\n",
    "import pymysql\n",
    "import pymysql.cursors\n",
    "\n",
    "import json\n",
    "\n",
    "import time\n",
    "import getpass\n",
    "from selenium.webdriver.common.keys import Keys\n",
    "\n",
    "from selenium import webdriver\n",
    " #-*- coding: UTF-8 -*-\n",
    "from selenium.webdriver.chrome.options import Options\n",
    "from selenium.webdriver.support.wait import WebDriverWait\n",
    "from bs4 import BeautifulSoup\n",
    "\n",
    "import urllib\n",
    "import re\n",
    "import csv "
   ]
  },
  {
   "cell_type": "code",
   "execution_count": 8,
   "metadata": {},
   "outputs": [],
   "source": [
    "with open('config/configure_RDS.json', 'r') as        \n",
    "\n",
    "    datasource = json.load(f)\n"
   ]
  },
  {
   "cell_type": "code",
   "execution_count": 9,
   "metadata": {},
   "outputs": [],
   "source": [
    "# Connect to the database\n",
    "connection = pymysql.connect(host=datasource['url'],\n",
    "                             user=datasource['username'],\n",
    "                             password=datasource['password'],\n",
    "                             db='myLunch',\n",
    "                             charset='utf8mb4',\n",
    "                             cursorclass=pymysql.cursors.DictCursor)"
   ]
  },
  {
   "cell_type": "code",
   "execution_count": 10,
   "metadata": {},
   "outputs": [],
   "source": [
    "def getAddress(index):\n",
    "    with connection.cursor() as cursor:\n",
    "\n",
    "        sql = 'SELECT address FROM restaurant_Seodaemun WHERE id = '+ str(index) +';'\n",
    "\n",
    "        cursor.execute(sql)\n",
    "        connection.commit()\n",
    "\n",
    "        row = cursor.fetchone()\n",
    "            \n",
    "    return row['address']"
   ]
  },
  {
   "cell_type": "code",
   "execution_count": 11,
   "metadata": {},
   "outputs": [],
   "source": [
    "def deleteKeyword(address_before):\n",
    "    temp = address_before.split(\" \")\n",
    "    address_after = temp[0] + \" \" + temp[1] + \" \" + temp[2] + \" \" + temp[3]\n",
    "    \n",
    "    return address_after"
   ]
  },
  {
   "cell_type": "code",
   "execution_count": 12,
   "metadata": {},
   "outputs": [],
   "source": [
    "def updateAddress(index, address):\n",
    "\n",
    "    with connection.cursor() as cursor:\n",
    "\n",
    "        sql = \"UPDATE restaurant_Seodaemun SET address = '\" + str(address) + \"' WHERE id = \"+ str(index)+\";\"\n",
    "\n",
    "        cursor.execute(sql)\n",
    "        connection.commit()\n"
   ]
  },
  {
   "cell_type": "code",
   "execution_count": 13,
   "metadata": {},
   "outputs": [
    {
     "name": "stderr",
     "output_type": "stream",
     "text": [
      "100%|██████████████████████████████████████████████████████████████████████████████| 3448/3448 [41:53<00:00,  1.37it/s]\n"
     ]
    }
   ],
   "source": [
    "from tqdm import tqdm\n",
    "\n",
    "\n",
    "with connection.cursor() as cursor:\n",
    "\n",
    "    sql = 'SELECT id FROM restaurant_Seodaemun;'\n",
    "\n",
    "    cursor.execute(sql)\n",
    "    connection.commit()\n",
    "    row = cursor.fetchall()\n",
    "\n",
    "        \n",
    "for idx in tqdm(row):\n",
    "        address_pre = getAddress(idx['id'])\n",
    "        address_prepro = deleteKeyword(address_pre)\n",
    "        updateAddress(idx['id'], address_prepro)\n",
    "    \n",
    "connection.close()\n"
   ]
  },
  {
   "cell_type": "code",
   "execution_count": null,
   "metadata": {},
   "outputs": [],
   "source": []
  }
 ],
 "metadata": {
  "kernelspec": {
   "display_name": "Python 3",
   "language": "python",
   "name": "python3"
  },
  "language_info": {
   "codemirror_mode": {
    "name": "ipython",
    "version": 3
   },
   "file_extension": ".py",
   "mimetype": "text/x-python",
   "name": "python",
   "nbconvert_exporter": "python",
   "pygments_lexer": "ipython3",
   "version": "3.8.3"
  }
 },
 "nbformat": 4,
 "nbformat_minor": 4
}