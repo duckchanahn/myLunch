{
 "cells": [
  {
   "cell_type": "code",
   "execution_count": null,
   "metadata": {},
   "outputs": [],
   "source": [
    "pip install PyMySQL"
   ]
  },
  {
   "cell_type": "code",
   "execution_count": null,
   "metadata": {},
   "outputs": [],
   "source": [
    "\n"
   ]
  },
  {
   "cell_type": "code",
   "execution_count": null,
   "metadata": {},
   "outputs": [],
   "source": [
    "conda config --add channels conda-forge"
   ]
  },
  {
   "cell_type": "code",
   "execution_count": 17,
   "metadata": {},
   "outputs": [
    {
     "name": "stderr",
     "output_type": "stream",
     "text": [
      "Traceback (most recent call last):"
     ]
    },
    {
     "name": "stdout",
     "output_type": "stream",
     "text": [
      "\n",
      "Note: you may need to restart the kernel to use updated packages.\n"
     ]
    },
    {
     "name": "stderr",
     "output_type": "stream",
     "text": [
      "\n",
      "  File \"D:\\anaconda\\anaconda\\Scripts\\conda-script.py\", line 11, in <module>\n",
      "    from conda.cli import main\n",
      "ModuleNotFoundError: No module named 'conda'\n"
     ]
    }
   ],
   "source": [
    "conda update conda=3.7"
   ]
  },
  {
   "cell_type": "code",
   "execution_count": 3,
   "metadata": {},
   "outputs": [
    {
     "name": "stdout",
     "output_type": "stream",
     "text": [
      "\n",
      "Note: you may need to restart the kernel to use updated packages.\n"
     ]
    },
    {
     "name": "stderr",
     "output_type": "stream",
     "text": [
      "Traceback (most recent call last):\n",
      "  File \"D:\\anaconda\\anaconda\\Scripts\\conda-script.py\", line 11, in <module>\n",
      "    from conda.cli import main\n",
      "ModuleNotFoundError: No module named 'conda'\n"
     ]
    }
   ],
   "source": [
    "conda update  --all"
   ]
  },
  {
   "cell_type": "code",
   "execution_count": 4,
   "metadata": {},
   "outputs": [
    {
     "ename": "SyntaxError",
     "evalue": "invalid syntax (<ipython-input-4-e7fe7857abca>, line 1)",
     "output_type": "error",
     "traceback": [
      "\u001b[1;36m  File \u001b[1;32m\"<ipython-input-4-e7fe7857abca>\"\u001b[1;36m, line \u001b[1;32m1\u001b[0m\n\u001b[1;33m    SITE_PACKAGES=/home/himal/miniconda3/lib/python3.7/site-packages\u001b[0m\n\u001b[1;37m                  ^\u001b[0m\n\u001b[1;31mSyntaxError\u001b[0m\u001b[1;31m:\u001b[0m invalid syntax\n"
     ]
    }
   ],
   "source": [
    "SITE_PACKAGES=/home/himal/miniconda3/lib/python3.7/site-packages"
   ]
  },
  {
   "cell_type": "code",
   "execution_count": 2,
   "metadata": {},
   "outputs": [
    {
     "name": "stdout",
     "output_type": "stream",
     "text": [
      "\n",
      "Note: you may need to restart the kernel to use updated packages.\n"
     ]
    },
    {
     "name": "stderr",
     "output_type": "stream",
     "text": [
      "Traceback (most recent call last):\n",
      "  File \"D:\\anaconda\\anaconda\\Scripts\\conda-script.py\", line 11, in <module>\n",
      "    from conda.cli import main\n",
      "ModuleNotFoundError: No module named 'conda'\n"
     ]
    }
   ],
   "source": [
    "conda install -c conda-forge/label/gcc7/win-64 scikit-surprise"
   ]
  },
  {
   "cell_type": "code",
   "execution_count": null,
   "metadata": {},
   "outputs": [],
   "source": [
    "conda install -c conda-forge scikit-surpirse"
   ]
  },
  {
   "cell_type": "code",
   "execution_count": null,
   "metadata": {},
   "outputs": [],
   "source": [
    "import pandas as pd\n",
    "import numpy as np\n",
    "\n",
    "import pymysql\n",
    "import pymysql.cursors"
   ]
  },
  {
   "cell_type": "code",
   "execution_count": null,
   "metadata": {},
   "outputs": [],
   "source": [
    "keyword_except_condition = np.array(['까페', '감성주점', '키즈카페', '정종/대포집/소주방', \n",
    "                           '전통찻집', '출장조리', '라이브카페'])\n",
    "\n",
    "keyword_except_name = np.array(['공차', '이디야', '투썸', '탐앤탐스', '이삭토스트', \n",
    "                           '한솥', '까페', '카페', '커피', 'COFFEE', '랑데자뷰', '빽다방', \n",
    "                           '감성커피', '아마스빈' ,'쥬씨' ,'차얌'])\n"
   ]
  },
  {
   "cell_type": "code",
   "execution_count": null,
   "metadata": {},
   "outputs": [],
   "source": [
    "restaurant = \"-gu_pre.csv\"\n",
    "address_list = ['Seodaemun']\n",
    "\n",
    "\n",
    "\n",
    "# Connect to the database\n",
    "connection = pymysql.connect(host='db-sang-diary.cdjhmqsvlizr.us-east-2.rds.amazonaws.com',\n",
    "                             user='root',\n",
    "                             password='akslzj19!',\n",
    "                             db='myLunch',\n",
    "                             charset='utf8mb4',\n",
    "                             cursorclass=pymysql.cursors.DictCursor)\n",
    "\n",
    "\n",
    "for i in address_list:\n",
    "    fileName = i + restaurant\n",
    "    \n",
    "    temp = pd.read_csv(fileName, encoding=\"cp949\")\n",
    "    \n",
    "    data_res = {'상세영업상태명': temp['상세영업상태명'],\n",
    "            '소재지면적': temp['소재지면적'],\n",
    "            '지번주소' : temp['지번주소'],\n",
    "            '사업장명' : temp['사업장명'],\n",
    "            '업태구분명' : temp['업태구분명']\n",
    "           }\n",
    "\n",
    "    data_res = pd.DataFrame(data_res)\n",
    "\n",
    "    data_res = PretreatmentData(data_res)\n",
    "    \n",
    "    insertResData(i, data_res)\n",
    "# 상세영업상태명 / 전화번호 / 소재지면적 / 지번주소 / 사업장명 / 업태구분명"
   ]
  },
  {
   "cell_type": "code",
   "execution_count": null,
   "metadata": {},
   "outputs": [],
   "source": [
    "def PretreatmentData(data_res):\n",
    "    \n",
    "    for i in range (len(data_res)-1, -1, -1):\n",
    "        #폐업 제외\n",
    "        if data_res['상세영업상태명'][i] == \"폐업\":\n",
    "            data_res = data_res.drop(data_res.index[i])\n",
    "        # 업태 구분명 제외\n",
    "        data_res = data_res.reset_index(drop=True)\n",
    "        for j in range (0, len(keyword_except_condition)):\n",
    "            data_res = data_res.reset_index(drop=True)\n",
    "            if data_res['업태구분명'][i] == keyword_except_condition[j]:\n",
    "            #if data_res['업태구분명'][i] == '까페':\n",
    "                data_res = data_res.drop(data_res.index[i])\n",
    "        # 사업장명 기준 제외\n",
    "        data_res = data_res.reset_index(drop=True)\n",
    "        for j in range (0, len(keyword_except_name)):\n",
    "            data_res = data_res.reset_index(drop=True)\n",
    "            if data_res['사업장명'][i].find(keyword_except_name[j]) != -1:\n",
    "            #if data_res['업태구분명'][i] == '까페':\n",
    "                data_res = data_res.drop(data_res.index[i])\n",
    "\n",
    "    data_res.drop(['상세영업상태명'], axis = 1, inplace = True)\n",
    "    \n",
    "    return data_res"
   ]
  },
  {
   "cell_type": "code",
   "execution_count": null,
   "metadata": {},
   "outputs": [],
   "source": [
    "temp = pd.read_csv(restaurant, encoding=\"cp949\")\n",
    "\n",
    "data_res = {'상세영업상태명': temp['상세영업상태명'],\n",
    "            '전화번호': temp['전화번호'],\n",
    "            '소재지면적': temp['소재지면적'],\n",
    "            '지번주소' : temp['지번주소'],\n",
    "            '사업장명' : temp['사업장명'],\n",
    "            '업태구분명' : temp['업태구분명']\n",
    "           }\n",
    "\n",
    "data_res = pd.DataFrame(data_res)\n",
    "\n",
    "for i in range (len(data_res)-1, -1, -1):\n",
    "    if data_res['상세영업상태명'][i] == \"폐업\":\n",
    "        data_res = data_res.drop(data_res.index[i])\n",
    "\n",
    "\n",
    "for i in range (len(data_res)-1, -1, -1):\n",
    "    data_res = data_res.reset_index(drop=True)\n",
    "    for j in range (0, len(keyword_except)):\n",
    "        data_res = data_res.reset_index(drop=True)\n",
    "        if data_res['업태구분명'][i] == keyword_except[j]:\n",
    "        #if data_res['업태구분명'][i] == '까페':\n",
    "            data_res = data_res.drop(data_res.index[i])\n",
    "            \n",
    "for i in range (len(data_res)-1, -1, -1):\n",
    "    data_res = data_res.reset_index(drop=True)\n",
    "    for j in range (0, len(keyword_except)):\n",
    "        data_res = data_res.reset_index(drop=True)\n",
    "        if data_res['사업장명'][i].find(keyword_except[j]) != -1:\n",
    "        #if data_res['업태구분명'][i] == '까페':\n",
    "            data_res = data_res.drop(data_res.index[i])\n",
    "            \n",
    "data_res.drop(['상세영업상태명'], axis = 1, inplace = True)"
   ]
  },
  {
   "cell_type": "code",
   "execution_count": null,
   "metadata": {},
   "outputs": [],
   "source": [
    "def insertResData(address, data_res):\n",
    "\n",
    "    data_res = data_res.dropna(axis=0)\n",
    "    data_res = data_res.reset_index(drop=True)\n",
    "\n",
    "    tableName = \"restaurant_\" + address\n",
    "\n",
    "    \n",
    "    try:\n",
    "        with connection.cursor() as cursor:\n",
    "\n",
    "            sql =   \"Create Table \"+tableName +\" (id int AUTO_INCREMENT, address varchar(30), restaurantName varchar(20), restaurantCondition varchar(10), primary key(id)); \"\n",
    "\n",
    "            cursor.execute(sql)\n",
    "            connection.commit()\n",
    "\n",
    "            \n",
    "            for i in range(0, len(data_res)):\n",
    "                # Create a new record\n",
    "                sql = \"INSERT INTO \"+\" \"+ tableName +\" \"+ \" (address, restaurantName, restaurantCondition) VALUES (%s, %s, %s);\"\n",
    "                cursor.execute(sql, (data_res['지번주소'][i], data_res['사업장명'][i], data_res['업태구분명'][i]))\n",
    "                connection.commit()\n",
    "            \n",
    "    finally:\n",
    "        connection.close()"
   ]
  },
  {
   "cell_type": "code",
   "execution_count": null,
   "metadata": {},
   "outputs": [],
   "source": []
  }
 ],
 "metadata": {
  "kernelspec": {
   "display_name": "Python 3",
   "language": "python",
   "name": "python3"
  },
  "language_info": {
   "codemirror_mode": {
    "name": "ipython",
    "version": 3
   },
   "file_extension": ".py",
   "mimetype": "text/x-python",
   "name": "python",
   "nbconvert_exporter": "python",
   "pygments_lexer": "ipython3",
   "version": "3.8.3"
  }
 },
 "nbformat": 4,
 "nbformat_minor": 4
}
