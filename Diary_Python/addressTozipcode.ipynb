{
 "cells": [
  {
   "cell_type": "code",
   "execution_count": 1,
   "metadata": {},
   "outputs": [],
   "source": [
    "import pandas as pd\n",
    "import numpy as np\n",
    "\n",
    "import pymysql\n",
    "import pymysql.cursors\n",
    "\n",
    "import json\n",
    "\n",
    "import time\n",
    "import getpass\n",
    "from selenium.webdriver.common.keys import Keys\n",
    "\n",
    "from selenium import webdriver\n",
    " #-*- coding: UTF-8 -*-\n",
    "from selenium.webdriver.chrome.options import Options\n",
    "from selenium.webdriver.support.wait import WebDriverWait\n",
    "from bs4 import BeautifulSoup\n",
    "\n",
    "import urllib\n",
    "import re\n",
    "import csv "
   ]
  },
  {
   "cell_type": "code",
   "execution_count": 2,
   "metadata": {
    "scrolled": false
   },
   "outputs": [],
   "source": [
    "with open('config/configure_RDS.json', 'r') as f:\n",
    "\n",
    "    datasource = json.load(f)\n"
   ]
  },
  {
   "cell_type": "code",
   "execution_count": 3,
   "metadata": {},
   "outputs": [],
   "source": [
    "# Connect to the database\n",
    "connection = pymysql.connect(host=datasource['url'],\n",
    "                             user=datasource['username'],\n",
    "                             password=datasource['password'],\n",
    "                             db='myLunch',\n",
    "                             charset='utf8mb4',\n",
    "                             cursorclass=pymysql.cursors.DictCursor)"
   ]
  },
  {
   "cell_type": "code",
   "execution_count": null,
   "metadata": {},
   "outputs": [
    {
     "name": "stderr",
     "output_type": "stream",
     "text": [
      "  0%|                                                                                         | 0/3455 [00:00<?, ?it/s]<ipython-input-5-ae0e13558495>:7: DeprecationWarning: use driver.switch_to.window instead\n",
      "  driver.switch_to_window(handle)\n",
      "<ipython-input-5-ae0e13558495>:10: DeprecationWarning: use driver.switch_to.window instead\n",
      "  driver.switch_to_window(main[0])\n",
      " 16%|████████████▍                                                                  | 543/3455 [10:36<55:59,  1.15s/it]"
     ]
    }
   ],
   "source": [
    "from tqdm import tqdm\n",
    "\n",
    "chromedriver = './chromedriver.exe' # 크롬 드라이버 경로\n",
    "\n",
    "\n",
    "options = webdriver.ChromeOptions()\n",
    "options.add_argument('headless')    # 웹 브라우저를 띄우지 않는 headless chrome 옵션 적용\n",
    "options.add_argument('disable-gpu')    # GPU 사용 안함\n",
    "options.add_argument('lang=ko_KR')    # 언어 설정\n",
    "options.add_argument(\"user-agent=Mozilla/5.0 (Windows NT 6.1; WOW64; Trident/7.0; rv:11.0) like Gecko\")\n",
    "driver = webdriver.Chrome(chromedriver, options=options) #  옵션 적용\n",
    "\n",
    "driver.implicitly_wait(100)\n",
    "\n",
    "count = 0\n",
    "\n",
    "\n",
    "with connection.cursor() as cursor:\n",
    "\n",
    "    sql = 'SELECT COUNT(*) FROM restaurant_Seodaemun;'\n",
    "\n",
    "    cursor.execute(sql)\n",
    "    connection.commit()\n",
    "    row = cursor.fetchone()\n",
    "\n",
    "endpoint = int(row[\"COUNT(*)\"])+1\n",
    "        \n",
    "        \n",
    "for i in tqdm(range(1, endpoint)):\n",
    "    address = getAddress(i)\n",
    "    zipcode = getZipcode(address)\n",
    "    updateZipcode(i, zipcode)\n",
    "\n",
    "\n",
    "connection.close()\n"
   ]
  },
  {
   "cell_type": "code",
   "execution_count": 4,
   "metadata": {},
   "outputs": [],
   "source": [
    "def getAddress(index):\n",
    "    with connection.cursor() as cursor:\n",
    "\n",
    "        sql = 'SELECT address FROM restaurant_Seodaemun WHERE id = '+ str(index) +';'\n",
    "\n",
    "        cursor.execute(sql)\n",
    "        connection.commit()\n",
    "\n",
    "        row = cursor.fetchone()\n",
    "            \n",
    "    return row['address']"
   ]
  },
  {
   "cell_type": "code",
   "execution_count": 5,
   "metadata": {},
   "outputs": [],
   "source": [
    "def getZipcode(address):\n",
    "    driver.get(\"https://www.epost.go.kr/search.RetrieveIntegrationNewZipCdList.comm\")\n",
    "\n",
    "    main = driver.window_handles \n",
    "    for handle in main: \n",
    "        if handle != main[0]: \n",
    "            driver.switch_to_window(handle) \n",
    "            driver.close()\n",
    "\n",
    "    driver.switch_to_window(main[0])\n",
    "\n",
    "    searchBar = driver.find_element_by_xpath('//*[@id=\"keyword\"]')\n",
    "    searchBar.send_keys(\"서울특별시 서대문구 거북골로 34\")\n",
    "    searchBar.submit()\n",
    "\n",
    "    zipcode = driver.find_element_by_xpath('//*[@id=\"body_layout\"]/div/div[1]/div[2]/div/div/div/div/table/tbody/tr[1]/th')\n",
    "    \n",
    "    return zipcode"
   ]
  },
  {
   "cell_type": "code",
   "execution_count": 6,
   "metadata": {},
   "outputs": [],
   "source": [
    "def updateZipcode(index, zipcode):\n",
    "\n",
    "    with connection.cursor() as cursor:\n",
    "\n",
    "        count = \"UPDATE restaurant_Seodaemun SET zipcode = '\" + str(zipcode) + \"' WHERE id = \"+ str(index)+\";\"\n",
    "\n",
    "        cursor.execute(sql)\n",
    "        connection.commit()\n"
   ]
  },
  {
   "cell_type": "code",
   "execution_count": null,
   "metadata": {},
   "outputs": [],
   "source": [
    "zipcode = '11111'\n",
    "\n",
    "index = '3'\n",
    "\n",
    "count = \"UPDATE restaurant_Seodaemun SET zipcode = '\" + zipcode + \"' WHERE id = \"+index+\";\"\n",
    "\n",
    "print(count)"
   ]
  },
  {
   "cell_type": "code",
   "execution_count": null,
   "metadata": {},
   "outputs": [],
   "source": [
    "with connection.cursor() as cursor:\n",
    "\n",
    "    index = '3'\n",
    "    \n",
    "    sql = 'SELECT address FROM restaurant_Seodaemun WHERE id = '+ index +';'\n",
    "\n",
    "    cursor.execute(sql)\n",
    "    connection.commit()\n",
    "    \n",
    "    row = cursor.fetchone()\n",
    "    print(row['address'])"
   ]
  }
 ],
 "metadata": {
  "kernelspec": {
   "display_name": "Python 3",
   "language": "python",
   "name": "python3"
  },
  "language_info": {
   "codemirror_mode": {
    "name": "ipython",
    "version": 3
   },
   "file_extension": ".py",
   "mimetype": "text/x-python",
   "name": "python",
   "nbconvert_exporter": "python",
   "pygments_lexer": "ipython3",
   "version": "3.8.3"
  }
 },
 "nbformat": 4,
 "nbformat_minor": 4
}
