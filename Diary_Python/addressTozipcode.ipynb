{
 "cells": [
  {
   "cell_type": "code",
   "execution_count": null,
   "metadata": {},
   "outputs": [],
   "source": [
    "import pandas as pd\n",
    "import numpy as np\n",
    "\n",
    "import pymysql\n",
    "import pymysql.cursors\n",
    "\n",
    "import json\n",
    "\n",
    "import time\n",
    "import getpass\n",
    "from selenium.webdriver.common.keys import Keys\n",
    "\n",
    "from selenium import webdriver\n",
    " #-*- coding: UTF-8 -*-\n",
    "from selenium.webdriver.chrome.options import Options\n",
    "from selenium.webdriver.support.wait import WebDriverWait\n",
    "from bs4 import BeautifulSoup\n",
    "\n",
    "import urllib\n",
    "import re\n",
    "import csv "
   ]
  },
  {
   "cell_type": "code",
   "execution_count": null,
   "metadata": {
    "scrolled": false
   },
   "outputs": [],
   "source": [
    "with open('config/configure_RDS.json', 'r') as f:\n",
    "\n",
    "    datasource = json.load(f)\n"
   ]
  },
  {
   "cell_type": "code",
   "execution_count": null,
   "metadata": {},
   "outputs": [],
   "source": [
    "# Connect to the database\n",
    "connection = pymysql.connect(host=datasource['url'],\n",
    "                             user=datasource['username'],\n",
    "                             password=datasource['password'],\n",
    "                             db='myLunch',\n",
    "                             charset='utf8mb4',\n",
    "                             cursorclass=pymysql.cursors.DictCursor)"
   ]
  },
  {
   "cell_type": "code",
   "execution_count": null,
   "metadata": {},
   "outputs": [],
   "source": [
    "def getAddress(index):\n",
    "    with connection.cursor() as cursor:\n",
    "\n",
    "        sql = 'SELECT address FROM restaurant_Seodaemun WHERE id = '+ str(index) +';'\n",
    "\n",
    "        cursor.execute(sql)\n",
    "        connection.commit()\n",
    "\n",
    "        row = cursor.fetchone()\n",
    "            \n",
    "    return row['address']"
   ]
  },
  {
   "cell_type": "code",
   "execution_count": null,
   "metadata": {},
   "outputs": [],
   "source": [
    "def getZipcode(address):\n",
    "    driver.get(\"https://map.kakao.com/?nil_profile=title&nil_src=local\")\n",
    "\n",
    "    main = driver.window_handles \n",
    "    for handle in main: \n",
    "        if handle != main[0]: \n",
    "            driver.switch_to_window(handle) \n",
    "            driver.close()\n",
    "\n",
    "    driver.switch_to_window(main[0])\n",
    "    try:\n",
    "        searchBar = driver.find_element_by_xpath('//*[@id=\"search.keyword.query\"]')\n",
    "        searchBar.send_keys(address)\n",
    "        searchBar.send_keys(Keys.ENTER)\n",
    "\n",
    "        zipcode = driver.find_element_by_css_selector('#info\\.search\\.address\\.list > li > div.txt_addr.clickArea > span > span.zip').text\n",
    "\n",
    "        zipcode = zipcode[-5:len(zipcode)]\n",
    "    except:\n",
    "        zipcode = '00000'\n",
    "    return zipcode"
   ]
  },
  {
   "cell_type": "code",
   "execution_count": null,
   "metadata": {},
   "outputs": [],
   "source": [
    "def getStreetAddress(address):\n",
    "    driver.get(\"https://map.kakao.com/?nil_profile=title&nil_src=local\")\n",
    "\n",
    "    main = driver.window_handles \n",
    "    for handle in main: \n",
    "        if handle != main[0]: \n",
    "            driver.switch_to_window(handle) \n",
    "            driver.close()\n",
    "\n",
    "    driver.switch_to_window(main[0])\n",
    "    try:\n",
    "        searchBar = driver.find_element_by_xpath('//*[@id=\"search.keyword.query\"]')\n",
    "        searchBar.send_keys(address)\n",
    "        searchBar.send_keys(Keys.ENTER)\n",
    "\n",
    "        streetAddress = \"서울특별시 서대문구 \" + driver.find_element_by_css_selector('#info\\.search\\.address\\.list > li > div.txt_addr.clickArea > div > div > div > a').text\n",
    "    except:\n",
    "        streetAddress = ''\n",
    "    return streetAddress"
   ]
  },
  {
   "cell_type": "code",
   "execution_count": null,
   "metadata": {},
   "outputs": [],
   "source": [
    "def updateZipcode(index, streetAddress):\n",
    "\n",
    "    with connection.cursor() as cursor:\n",
    "\n",
    "        sql = \"UPDATE restaurant_Seodaemun SET zipcode = '\" + str(streetAddress) + \"' WHERE id = \"+ str(index)+\";\"\n",
    "\n",
    "        cursor.execute(sql)\n",
    "        connection.commit()\n"
   ]
  },
  {
   "cell_type": "code",
   "execution_count": null,
   "metadata": {},
   "outputs": [],
   "source": [
    "def updateStreetAddress(index, streetAddress):\n",
    "\n",
    "    with connection.cursor() as cursor:\n",
    "\n",
    "        sql = \"UPDATE restaurant_Seodaemun SET streetAddress = '\" + str(streetAddress) + \"' WHERE id = \"+ str(index)+\";\"\n",
    "\n",
    "        cursor.execute(sql)\n",
    "        connection.commit()\n"
   ]
  },
  {
   "cell_type": "code",
   "execution_count": null,
   "metadata": {},
   "outputs": [],
   "source": [
    "from tqdm import tqdm\n",
    "\n",
    "chromedriver = './chromedriver.exe' # 크롬 드라이버 경로\n",
    "\n",
    "\n",
    "options = webdriver.ChromeOptions()\n",
    "options.add_argument('headless')    # 웹 브라우저를 띄우지 않는 headless chrome 옵션 적용\n",
    "options.add_argument('disable-gpu')    # GPU 사용 안함\n",
    "options.add_argument('lang=ko_KR')    # 언어 설정\n",
    "options.add_argument(\"user-agent=Mozilla/5.0 (Windows NT 6.1; WOW64; Trident/7.0; rv:11.0) like Gecko\")\n",
    "driver = webdriver.Chrome(chromedriver, options=options) #  옵션 적용\n",
    "\n",
    "driver.implicitly_wait(100)\n",
    "\n",
    "\n",
    "from threading import Timer\n",
    "\n",
    "\n",
    "with connection.cursor() as cursor:\n",
    "\n",
    "    sql = 'SELECT id FROM restaurant_Seodaemun;'\n",
    "\n",
    "    cursor.execute(sql)\n",
    "    connection.commit()\n",
    "    row = cursor.fetchall()\n",
    "\n",
    "for idx in tqdm(row):\n",
    "        address = getAddress(idx['id'])\n",
    "        zipcode = getZipcode(address)\n",
    "        updateZipcode(idx['id'], zipcode)\n",
    "    \n",
    "connection.close()\n"
   ]
  },
  {
   "cell_type": "code",
   "execution_count": null,
   "metadata": {},
   "outputs": [],
   "source": [
    "from tqdm import tqdm\n",
    "\n",
    "chromedriver = './chromedriver.exe' # 크롬 드라이버 경로\n",
    "\n",
    "\n",
    "options = webdriver.ChromeOptions()\n",
    "options.add_argument('headless')    # 웹 브라우저를 띄우지 않는 headless chrome 옵션 적용\n",
    "options.add_argument('disable-gpu')    # GPU 사용 안함\n",
    "options.add_argument('lang=ko_KR')    # 언어 설정\n",
    "options.add_argument(\"user-agent=Mozilla/5.0 (Windows NT 6.1; WOW64; Trident/7.0; rv:11.0) like Gecko\")\n",
    "driver = webdriver.Chrome(chromedriver, options=options) #  옵션 적용\n",
    "\n",
    "driver.implicitly_wait(100)\n",
    "\n",
    "\n",
    "\n",
    "with connection.cursor() as cursor:\n",
    "\n",
    "    sql = 'SELECT id, zipcode FROM restaurant_Seodaemun;'\n",
    "\n",
    "    cursor.execute(sql)\n",
    "    connection.commit()\n",
    "    row = cursor.fetchall()\n",
    "\n",
    "        \n",
    "for idx in tqdm(row):\n",
    "    if idx['zipcode'] != '00000':\n",
    "        address = getAddress(idx['id'])\n",
    "        streetAddress = getStreetAddress(address)\n",
    "        updateStreetAddress(idx['id'], streetAddress)\n",
    "    \n",
    "connection.close()\n"
   ]
  }
 ],
 "metadata": {
  "kernelspec": {
   "display_name": "Python 3",
   "language": "python",
   "name": "python3"
  },
  "language_info": {
   "codemirror_mode": {
    "name": "ipython",
    "version": 3
   },
   "file_extension": ".py",
   "mimetype": "text/x-python",
   "name": "python",
   "nbconvert_exporter": "python",
   "pygments_lexer": "ipython3",
   "version": "3.8.3"
  }
 },
 "nbformat": 4,
 "nbformat_minor": 4
}
